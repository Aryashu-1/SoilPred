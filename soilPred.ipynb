{
 "cells": [
  {
   "cell_type": "code",
   "execution_count": 53,
   "id": "45ad0aa2",
   "metadata": {},
   "outputs": [],
   "source": [
    "from sklearn.neighbors import KNeighborsClassifier\n",
    "import pandas as pd\n",
    "from sklearn.model_selection import train_test_split\n",
    "from sklearn.feature_extraction.text import CountVectorizer\n",
    "from sklearn.metrics import r2_score,classification_report"
   ]
  },
  {
   "cell_type": "code",
   "execution_count": 54,
   "id": "2ed878a6",
   "metadata": {},
   "outputs": [],
   "source": [
    "plant_params = pd.read_csv('./Plant_Parameters.csv')\n"
   ]
  },
  {
   "cell_type": "code",
   "execution_count": 65,
   "id": "6fd117fb",
   "metadata": {
    "scrolled": true
   },
   "outputs": [
    {
     "data": {
      "text/html": [
       "<div>\n",
       "<style scoped>\n",
       "    .dataframe tbody tr th:only-of-type {\n",
       "        vertical-align: middle;\n",
       "    }\n",
       "\n",
       "    .dataframe tbody tr th {\n",
       "        vertical-align: top;\n",
       "    }\n",
       "\n",
       "    .dataframe thead th {\n",
       "        text-align: right;\n",
       "    }\n",
       "</style>\n",
       "<table border=\"1\" class=\"dataframe\">\n",
       "  <thead>\n",
       "    <tr style=\"text-align: right;\">\n",
       "      <th></th>\n",
       "      <th>pH</th>\n",
       "      <th>Soil EC</th>\n",
       "      <th>Phosphorus</th>\n",
       "      <th>Potassium</th>\n",
       "      <th>Urea</th>\n",
       "      <th>T.S.P</th>\n",
       "      <th>M.O.P</th>\n",
       "      <th>Moisture</th>\n",
       "      <th>Temperature</th>\n",
       "      <th>Plant Type</th>\n",
       "    </tr>\n",
       "  </thead>\n",
       "  <tbody>\n",
       "    <tr>\n",
       "      <th>72638</th>\n",
       "      <td>7.292753</td>\n",
       "      <td>0.643156</td>\n",
       "      <td>35.973507</td>\n",
       "      <td>118.152941</td>\n",
       "      <td>76.990349</td>\n",
       "      <td>29.351451</td>\n",
       "      <td>29.285164</td>\n",
       "      <td>66.767827</td>\n",
       "      <td>78.539447</td>\n",
       "      <td>Sunflowers</td>\n",
       "    </tr>\n",
       "  </tbody>\n",
       "</table>\n",
       "</div>"
      ],
      "text/plain": [
       "             pH   Soil EC  Phosphorus   Potassium       Urea      T.S.P  \\\n",
       "72638  7.292753  0.643156   35.973507  118.152941  76.990349  29.351451   \n",
       "\n",
       "           M.O.P   Moisture  Temperature  Plant Type  \n",
       "72638  29.285164  66.767827    78.539447  Sunflowers  "
      ]
     },
     "execution_count": 65,
     "metadata": {},
     "output_type": "execute_result"
    }
   ],
   "source": [
    "plant_params['Moisture']"
   ]
  },
  {
   "cell_type": "code",
   "execution_count": 56,
   "id": "9ecb8fbb",
   "metadata": {},
   "outputs": [],
   "source": [
    "def Normalise(X):\n",
    "    return (X-X.mean())/X.std()"
   ]
  },
  {
   "cell_type": "code",
   "execution_count": 57,
   "id": "ca1eb79c",
   "metadata": {},
   "outputs": [
    {
     "name": "stdout",
     "output_type": "stream",
     "text": [
      "{'Carrots': 0, 'Chili': 1, 'Cinnamon': 2, 'Corn': 3, 'Eggplant': 4, 'Rice': 5, 'Strawberries': 6, 'Sunflowers': 7, 'Tomato': 8, 'Wheat': 9}\n"
     ]
    }
   ],
   "source": [
    "final_dict = {}\n",
    "list_of_unique = plant_params['Plant Type'].unique()\n",
    "for ind,ele in enumerate(list_of_unique):\n",
    "    final_dict[ele] = ind\n",
    "print(final_dict)"
   ]
  },
  {
   "cell_type": "code",
   "execution_count": 58,
   "id": "2d83948e",
   "metadata": {},
   "outputs": [],
   "source": [
    "y = plant_params['Plant Type']\n",
    "y = y.apply(lambda x : final_dict[x])\n",
    "X = plant_params.iloc[:,0:9]\n",
    "#X = Normalise(X)"
   ]
  },
  {
   "cell_type": "code",
   "execution_count": 59,
   "id": "07d8bf01",
   "metadata": {},
   "outputs": [],
   "source": [
    "Xtrain,Xtest,Ytrain,Ytest = train_test_split(X,y,test_size=0.8)"
   ]
  },
  {
   "cell_type": "code",
   "execution_count": 60,
   "id": "d9a34390",
   "metadata": {},
   "outputs": [
    {
     "data": {
      "text/html": [
       "<style>#sk-container-id-3 {color: black;background-color: white;}#sk-container-id-3 pre{padding: 0;}#sk-container-id-3 div.sk-toggleable {background-color: white;}#sk-container-id-3 label.sk-toggleable__label {cursor: pointer;display: block;width: 100%;margin-bottom: 0;padding: 0.3em;box-sizing: border-box;text-align: center;}#sk-container-id-3 label.sk-toggleable__label-arrow:before {content: \"▸\";float: left;margin-right: 0.25em;color: #696969;}#sk-container-id-3 label.sk-toggleable__label-arrow:hover:before {color: black;}#sk-container-id-3 div.sk-estimator:hover label.sk-toggleable__label-arrow:before {color: black;}#sk-container-id-3 div.sk-toggleable__content {max-height: 0;max-width: 0;overflow: hidden;text-align: left;background-color: #f0f8ff;}#sk-container-id-3 div.sk-toggleable__content pre {margin: 0.2em;color: black;border-radius: 0.25em;background-color: #f0f8ff;}#sk-container-id-3 input.sk-toggleable__control:checked~div.sk-toggleable__content {max-height: 200px;max-width: 100%;overflow: auto;}#sk-container-id-3 input.sk-toggleable__control:checked~label.sk-toggleable__label-arrow:before {content: \"▾\";}#sk-container-id-3 div.sk-estimator input.sk-toggleable__control:checked~label.sk-toggleable__label {background-color: #d4ebff;}#sk-container-id-3 div.sk-label input.sk-toggleable__control:checked~label.sk-toggleable__label {background-color: #d4ebff;}#sk-container-id-3 input.sk-hidden--visually {border: 0;clip: rect(1px 1px 1px 1px);clip: rect(1px, 1px, 1px, 1px);height: 1px;margin: -1px;overflow: hidden;padding: 0;position: absolute;width: 1px;}#sk-container-id-3 div.sk-estimator {font-family: monospace;background-color: #f0f8ff;border: 1px dotted black;border-radius: 0.25em;box-sizing: border-box;margin-bottom: 0.5em;}#sk-container-id-3 div.sk-estimator:hover {background-color: #d4ebff;}#sk-container-id-3 div.sk-parallel-item::after {content: \"\";width: 100%;border-bottom: 1px solid gray;flex-grow: 1;}#sk-container-id-3 div.sk-label:hover label.sk-toggleable__label {background-color: #d4ebff;}#sk-container-id-3 div.sk-serial::before {content: \"\";position: absolute;border-left: 1px solid gray;box-sizing: border-box;top: 0;bottom: 0;left: 50%;z-index: 0;}#sk-container-id-3 div.sk-serial {display: flex;flex-direction: column;align-items: center;background-color: white;padding-right: 0.2em;padding-left: 0.2em;position: relative;}#sk-container-id-3 div.sk-item {position: relative;z-index: 1;}#sk-container-id-3 div.sk-parallel {display: flex;align-items: stretch;justify-content: center;background-color: white;position: relative;}#sk-container-id-3 div.sk-item::before, #sk-container-id-3 div.sk-parallel-item::before {content: \"\";position: absolute;border-left: 1px solid gray;box-sizing: border-box;top: 0;bottom: 0;left: 50%;z-index: -1;}#sk-container-id-3 div.sk-parallel-item {display: flex;flex-direction: column;z-index: 1;position: relative;background-color: white;}#sk-container-id-3 div.sk-parallel-item:first-child::after {align-self: flex-end;width: 50%;}#sk-container-id-3 div.sk-parallel-item:last-child::after {align-self: flex-start;width: 50%;}#sk-container-id-3 div.sk-parallel-item:only-child::after {width: 0;}#sk-container-id-3 div.sk-dashed-wrapped {border: 1px dashed gray;margin: 0 0.4em 0.5em 0.4em;box-sizing: border-box;padding-bottom: 0.4em;background-color: white;}#sk-container-id-3 div.sk-label label {font-family: monospace;font-weight: bold;display: inline-block;line-height: 1.2em;}#sk-container-id-3 div.sk-label-container {text-align: center;}#sk-container-id-3 div.sk-container {/* jupyter's `normalize.less` sets `[hidden] { display: none; }` but bootstrap.min.css set `[hidden] { display: none !important; }` so we also need the `!important` here to be able to override the default hidden behavior on the sphinx rendered scikit-learn.org. See: https://github.com/scikit-learn/scikit-learn/issues/21755 */display: inline-block !important;position: relative;}#sk-container-id-3 div.sk-text-repr-fallback {display: none;}</style><div id=\"sk-container-id-3\" class=\"sk-top-container\"><div class=\"sk-text-repr-fallback\"><pre>KNeighborsClassifier(n_neighbors=10)</pre><b>In a Jupyter environment, please rerun this cell to show the HTML representation or trust the notebook. <br />On GitHub, the HTML representation is unable to render, please try loading this page with nbviewer.org.</b></div><div class=\"sk-container\" hidden><div class=\"sk-item\"><div class=\"sk-estimator sk-toggleable\"><input class=\"sk-toggleable__control sk-hidden--visually\" id=\"sk-estimator-id-3\" type=\"checkbox\" checked><label for=\"sk-estimator-id-3\" class=\"sk-toggleable__label sk-toggleable__label-arrow\">KNeighborsClassifier</label><div class=\"sk-toggleable__content\"><pre>KNeighborsClassifier(n_neighbors=10)</pre></div></div></div></div></div>"
      ],
      "text/plain": [
       "KNeighborsClassifier(n_neighbors=10)"
      ]
     },
     "execution_count": 60,
     "metadata": {},
     "output_type": "execute_result"
    }
   ],
   "source": [
    "k_neighbors = 10  # You can adjust the number of neighbors (k) as needed\n",
    "knn_model = KNeighborsClassifier(n_neighbors=k_neighbors)\n",
    "knn_model.fit(Xtrain, Ytrain)"
   ]
  },
  {
   "cell_type": "code",
   "execution_count": 61,
   "id": "330297ce",
   "metadata": {},
   "outputs": [
    {
     "name": "stdout",
     "output_type": "stream",
     "text": [
      "9\n",
      "{'pH': 1, 'Soil EC': 1, 'Phosphorus': 1, 'Potassium': 1, 'Urea': 1, 'T.S.P': 1, 'M.O.P': 1, 'Moisture': 1, 'Temperature': 1}\n",
      "2\n"
     ]
    }
   ],
   "source": [
    "\n",
    "print(len(Xtrain.columns))\n",
    "\n",
    "def getPredics(datalist):\n",
    "    \n",
    "    cols = Xtrain.columns\n",
    "    \n",
    "    my_dict = {}\n",
    "    \n",
    "    for i in range(9):\n",
    "        \n",
    "        my_dict[cols[i]] = datalist[i]\n",
    "    \n",
    "    print(my_dict)\n",
    "    \n",
    "    df = pd.DataFrame([my_dict])\n",
    "    \n",
    "    preds = knn_model.predict(df)\n",
    "    \n",
    "    return preds\n",
    "    \n",
    "\n",
    "preds = getPredics([1,1,1,1,1,1,1,1,1])\n",
    "print(str(preds[0]))\n",
    "    \n",
    "    \n",
    "\n",
    "#print(Xtest.iloc[2:3,:])"
   ]
  },
  {
   "cell_type": "markdown",
   "id": "3ba1689f",
   "metadata": {},
   "source": [
    "#Tkinter Code here"
   ]
  },
  {
   "cell_type": "code",
   "execution_count": null,
   "id": "bcd123e0",
   "metadata": {},
   "outputs": [
    {
     "name": "stdout",
     "output_type": "stream",
     "text": [
      "{'pH': 40.0, 'Soil EC': 30.0, 'Phosphorus': 40.0, 'Potassium': 40.0, 'Urea': 40.0, 'T.S.P': 49.0, 'M.O.P': 32.0, 'Moisture': 340.0, 'Temperature': 23.0}\n"
     ]
    }
   ],
   "source": [
    "import tkinter as tk\n",
    "\n",
    "def display_data():\n",
    "    result_text.delete(1.0, tk.END)  # Clear previous result text\n",
    "\n",
    "    # Get data from entry fields\n",
    "    data_list = [float(entry_fields[i].get()) for i in range(9)]\n",
    "    \n",
    "    prdic = getPredics(data_list)\n",
    "    \n",
    "    prdic = prdic[0]\n",
    "\n",
    "    # Display data in the result text field\n",
    "    result_text.insert(tk.END,list_of_unique[prdic])\n",
    "\n",
    "# Create the main window\n",
    "root = tk.Tk()\n",
    "root.title(\"Text Data Display\")\n",
    "\n",
    "# Create entry fields\n",
    "entry_fields = [tk.Entry(root) for _ in range(9)]\n",
    "\n",
    "# Create a button to trigger the display_data function\n",
    "display_button = tk.Button(root, text=\"Display Data\", command=display_data)\n",
    "\n",
    "# Create a text widget to display the result\n",
    "result_text = tk.Text(root, height=10, width=30)\n",
    "\n",
    "# Pack widgets\n",
    "for entry_field in entry_fields:\n",
    "    entry_field.pack(pady=5)\n",
    "\n",
    "display_button.pack(pady=10)\n",
    "result_text.pack(pady=10)\n",
    "\n",
    "# Start the main loop\n",
    "\n",
    "root.mainloop()\n"
   ]
  },
  {
   "cell_type": "code",
   "execution_count": null,
   "id": "16aa54e1",
   "metadata": {},
   "outputs": [],
   "source": []
  },
  {
   "cell_type": "code",
   "execution_count": null,
   "id": "e2bb6d63",
   "metadata": {},
   "outputs": [],
   "source": []
  }
 ],
 "metadata": {
  "kernelspec": {
   "display_name": "Python 3 (ipykernel)",
   "language": "python",
   "name": "python3"
  },
  "language_info": {
   "codemirror_mode": {
    "name": "ipython",
    "version": 3
   },
   "file_extension": ".py",
   "mimetype": "text/x-python",
   "name": "python",
   "nbconvert_exporter": "python",
   "pygments_lexer": "ipython3",
   "version": "3.10.13"
  }
 },
 "nbformat": 4,
 "nbformat_minor": 5
}
